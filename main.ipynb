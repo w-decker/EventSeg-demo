{
 "cells": [
  {
   "cell_type": "markdown",
   "metadata": {},
   "source": [
    "# EventSeg-demo"
   ]
  },
  {
   "cell_type": "markdown",
   "metadata": {},
   "source": [
    "### Imports"
   ]
  },
  {
   "cell_type": "code",
   "execution_count": null,
   "metadata": {},
   "outputs": [],
   "source": [
    "import numpy as np\n",
    "import matplotlib.pyplot as plt\n",
    "%matplotlib inline\n",
    "\n",
    "from sklearn.model_selection import LeaveOneOut, KFold, train_test_split\n",
    "from brainiak.eventseg.event import EventSegment\n",
    "from hmm_fmri import SimSimpData, Dataset\n",
    "from utils import download_data, load_data\n",
    "from pathlib import Path"
   ]
  },
  {
   "cell_type": "markdown",
   "metadata": {},
   "source": [
    "### Download data\n",
    "\n",
    "> This will take > 15 seconds"
   ]
  },
  {
   "cell_type": "code",
   "execution_count": null,
   "metadata": {},
   "outputs": [],
   "source": [
    "download_data(Path(\"data\"))"
   ]
  },
  {
   "cell_type": "markdown",
   "metadata": {},
   "source": [
    "### Load data"
   ]
  },
  {
   "cell_type": "code",
   "execution_count": null,
   "metadata": {},
   "outputs": [],
   "source": [
    "D = load_data(Path(\"data\"), dataset=\"sherlock\")"
   ]
  },
  {
   "cell_type": "markdown",
   "metadata": {},
   "source": [
    "### Look at some BOLD data"
   ]
  },
  {
   "cell_type": "code",
   "execution_count": null,
   "metadata": {},
   "outputs": [],
   "source": [
    "plt.figure(figsize=(10, 2))\n",
    "plt.imshow(D[\"BOLD\"][:, :, 1], aspect='auto')\n",
    "plt.title('Subject 1 BOLD data')\n",
    "plt.xlabel(\"TRs\")\n",
    "plt.ylabel(\"Regions\")"
   ]
  },
  {
   "cell_type": "markdown",
   "metadata": {},
   "source": [
    "### Formal model fitting\n",
    "\n",
    "This is the nested cross validation skeleton"
   ]
  },
  {
   "cell_type": "code",
   "execution_count": null,
   "metadata": {},
   "outputs": [],
   "source": [
    "# get some variables\n",
    "nReg, nTRs, nSubs = np.shape(D['BOLD'])\n",
    "\n",
    "# nested CV constants\n",
    "n_splits_inner = 4\n",
    "subj_id_all = np.array(range(nSubs))\n",
    "\n",
    "# set up outer loop loo structure\n",
    "loo_outer = LeaveOneOut()\n",
    "loo_outer.get_n_splits(subj_id_all)\n",
    "for subj_id_train_outer, subj_id_test_outer in loo_outer.split(subj_id_all):\n",
    "    print(\"Outer:\\tTrain:\", subj_id_train_outer, \"Test:\", subj_id_test_outer)\n",
    "    \n",
    "    # set up inner loop loo structure\n",
    "    subj_id_all_inner = subj_id_all[subj_id_train_outer]\n",
    "    kf = KFold(n_splits=n_splits_inner)\n",
    "    kf.get_n_splits(subj_id_train_outer)\n",
    "    \n",
    "    print('Inner:')\n",
    "    for subj_id_train_inner, subj_id_test_inner in kf.split(subj_id_all_inner):\n",
    "        # inplace update the ids w.r.t. to the inner training set\n",
    "        subj_id_train_inner = subj_id_all_inner[subj_id_train_inner]\n",
    "        subj_id_test_inner = subj_id_all_inner[subj_id_test_inner]\n",
    "        print(\"-Train:\", subj_id_train_inner, \"Test:\", subj_id_test_inner, ', now try different k...')\n",
    "    print()"
   ]
  },
  {
   "cell_type": "markdown",
   "metadata": {},
   "source": [
    "###  Generate some fake data with `hmm-fmri`"
   ]
  },
  {
   "cell_type": "code",
   "execution_count": null,
   "metadata": {},
   "outputs": [],
   "source": [
    "# create a single data\n",
    "simpdat = SimSimpData(n_events=15, size=(80, 100), noise=0.3, skew=True, skewf=20).data()\n",
    "\n",
    "# plot\n",
    "simpdat.plot()"
   ]
  },
  {
   "cell_type": "markdown",
   "metadata": {},
   "source": [
    "### Make an entire dataset with `hmm-fmri`"
   ]
  },
  {
   "cell_type": "code",
   "execution_count": null,
   "metadata": {},
   "outputs": [],
   "source": [
    "# create dataset\n",
    "D = Dataset(base=simpdat, n=40).make_dataset() # dataset with 40 individuals\n",
    "\n",
    "# plot\n",
    "dset = np.delete(D.dataset, 0, axis=0)\n",
    "plt.imshow(dset[0].T, aspect='auto') # first participant data"
   ]
  },
  {
   "cell_type": "markdown",
   "metadata": {},
   "source": [
    "### Inner loop: Tune `k`\n",
    "\n",
    "> This is computationally intensive and is scaled by `k` and the training data.\n",
    "\n",
    "> It is recommended to connect to a remote server or HPC."
   ]
  },
  {
   "cell_type": "code",
   "execution_count": null,
   "metadata": {},
   "outputs": [],
   "source": [
    "# parse subjects\n",
    "nSubs = len(D.dataset) - 1\n",
    "subj_id_test = 0\n",
    "subj_id_val = 1 \n",
    "subj_id_train = [\n",
    "    subj_id for subj_id in range(nSubs) \n",
    "    if subj_id not in [subj_id_test, subj_id_val]\n",
    "]\n",
    "\n",
    "BOLD_train, BOLD_val_test = train_test_split(dset, test_size=0.4, random_state=42)\n",
    "BOLD_val, BOLD_test = train_test_split(BOLD_val_test, test_size=0.5, random_state=42) \n",
    "\n",
    "\n",
    "# get some k's (adjust as needed)\n",
    "k_vals = np.arange(1, 15, 1)\n",
    "\n",
    "# track log-likelihoods\n",
    "log_likely = []\n",
    "\n",
    "# fit\n",
    "for k, j in zip(k_vals, BOLD_train):\n",
    "    # Fit HMM on training data\n",
    "    HMM = EventSegment(n_events=k)\n",
    "    HMM.fit(j)\n",
    "\n",
    "    # collect LL\n",
    "    ll = HMM.ll_\n",
    "    log_likely.append(ll)\n",
    "\n",
    "# Find the best k based on validation set\n",
    "# best_k_index = np.argmax(log_likely)\n",
    "# best_k = k_vals[best_k_index]\n",
    "\n",
    "\n",
    "print('Whole dataset:\\t', np.shape(dset))\n",
    "print('Training set:\\t', np.shape(BOLD_train))\n",
    "print('Tune set:\\t', np.shape(BOLD_val))\n",
    "print('Test set:\\t', np.shape(BOLD_test))\n",
    "\n",
    "print(subj_id_train)\n",
    "print(subj_id_val)\n",
    "print(subj_id_test)"
   ]
  },
  {
   "cell_type": "markdown",
   "metadata": {},
   "source": [
    "### Plot log-likelyhood"
   ]
  },
  {
   "cell_type": "code",
   "execution_count": null,
   "metadata": {},
   "outputs": [],
   "source": [
    "[plt.plot(i) for i in log_likely];\n",
    "[plt.legend(i) for i in log_likely]"
   ]
  },
  {
   "cell_type": "code",
   "execution_count": null,
   "metadata": {},
   "outputs": [],
   "source": []
  }
 ],
 "metadata": {
  "kernelspec": {
   "display_name": "brainiak_env",
   "language": "python",
   "name": "python3"
  },
  "language_info": {
   "codemirror_mode": {
    "name": "ipython",
    "version": 3
   },
   "file_extension": ".py",
   "mimetype": "text/x-python",
   "name": "python",
   "nbconvert_exporter": "python",
   "pygments_lexer": "ipython3",
   "version": "3.7.12"
  }
 },
 "nbformat": 4,
 "nbformat_minor": 2
}
